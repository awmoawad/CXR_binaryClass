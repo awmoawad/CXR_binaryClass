{
  "nbformat": 4,
  "nbformat_minor": 0,
  "metadata": {
    "accelerator": "GPU",
    "colab": {
      "name": "web_application_L2.ipynb",
      "provenance": [],
      "collapsed_sections": []
    },
    "kernelspec": {
      "display_name": "Python 3",
      "language": "python",
      "name": "python3"
    },
    "language_info": {
      "codemirror_mode": {
        "name": "ipython",
        "version": 3
      },
      "file_extension": ".py",
      "mimetype": "text/x-python",
      "name": "python",
      "nbconvert_exporter": "python",
      "pygments_lexer": "ipython3",
      "version": "3.7.10"
    }
  },
  "cells": [
    {
      "cell_type": "markdown",
      "metadata": {
        "gradient": {
          "editing": false
        },
        "id": "jnEqBYkMGbAf"
      },
      "source": [
        "# Web-based application for classification of chest x-ray either anterior or Lateral"
      ]
    },
    {
      "cell_type": "markdown",
      "metadata": {
        "gradient": {
          "editing": false
        },
        "id": "a7KaQCryGrGu"
      },
      "source": [
        "## Libraries to be imported"
      ]
    },
    {
      "cell_type": "markdown",
      "metadata": {
        "gradient": {
          "editing": false
        },
        "id": "hbJyzsrPGxWr"
      },
      "source": [
        "We will import fastai and fastbook libraries with their dependent libraries. Please use GPU as runtime"
      ]
    },
    {
      "cell_type": "code",
      "metadata": {
        "gradient": {},
        "id": "svrEqzOmHH4n"
      },
      "source": [
        "#!pip install torchtext==0.8.1\n",
        "#!pip install -Uqq fastbook\n",
        "#import fastbook\n",
        "#fastbook.setup_book()"
      ],
      "execution_count": 1,
      "outputs": []
    },
    {
      "cell_type": "code",
      "metadata": {
        "gradient": {},
        "id": "WOzJQy9_HMRG",
        "colab": {
          "base_uri": "https://localhost:8080/",
          "height": 323
        },
        "outputId": "ab460582-b43c-4243-9c98-25f3b8c2d3df"
      },
      "source": [
        "from fastbook import *\n",
        "from fastai.vision.widgets import *"
      ],
      "execution_count": 2,
      "outputs": [
        {
          "output_type": "error",
          "ename": "ModuleNotFoundError",
          "evalue": "ignored",
          "traceback": [
            "\u001b[0;31m---------------------------------------------------------------------------\u001b[0m",
            "\u001b[0;31mModuleNotFoundError\u001b[0m                       Traceback (most recent call last)",
            "\u001b[0;32m<ipython-input-2-d9effabe3e97>\u001b[0m in \u001b[0;36m<module>\u001b[0;34m()\u001b[0m\n\u001b[0;32m----> 1\u001b[0;31m \u001b[0;32mfrom\u001b[0m \u001b[0mfastbook\u001b[0m \u001b[0;32mimport\u001b[0m \u001b[0;34m*\u001b[0m\u001b[0;34m\u001b[0m\u001b[0;34m\u001b[0m\u001b[0m\n\u001b[0m\u001b[1;32m      2\u001b[0m \u001b[0;32mfrom\u001b[0m \u001b[0mfastai\u001b[0m\u001b[0;34m.\u001b[0m\u001b[0mvision\u001b[0m\u001b[0;34m.\u001b[0m\u001b[0mwidgets\u001b[0m \u001b[0;32mimport\u001b[0m \u001b[0;34m*\u001b[0m\u001b[0;34m\u001b[0m\u001b[0;34m\u001b[0m\u001b[0m\n",
            "\u001b[0;31mModuleNotFoundError\u001b[0m: No module named 'fastbook'",
            "",
            "\u001b[0;31m---------------------------------------------------------------------------\u001b[0;32m\nNOTE: If your import is failing due to a missing package, you can\nmanually install dependencies using either !pip or !apt.\n\nTo view examples of installing some common dependencies, click the\n\"Open Examples\" button below.\n\u001b[0;31m---------------------------------------------------------------------------\u001b[0m\n"
          ]
        }
      ]
    },
    {
      "cell_type": "markdown",
      "metadata": {
        "gradient": {
          "editing": false
        },
        "id": "VYt-UvdMHVs2"
      },
      "source": [
        "## Classifier upload"
      ]
    },
    {
      "cell_type": "markdown",
      "metadata": {
        "gradient": {
          "editing": false
        },
        "id": "cDz7n7z1Hjtx"
      },
      "source": [
        "Upload the Pre-trained classifier and mount it into google drive and colab. first, upload the model file `(.pkl)` and add it into drive in content folder. \n",
        "\n",
        "Then, mount it with its path so we can directly use it in the web application"
      ]
    },
    {
      "cell_type": "code",
      "metadata": {
        "gradient": {},
        "id": "4yg8QWb7Hiys"
      },
      "source": [
        "path = Path()\n",
        "path.ls(file_exts='.pkl')"
      ],
      "execution_count": null,
      "outputs": []
    },
    {
      "cell_type": "code",
      "metadata": {
        "gradient": {
          "source_hidden": true
        },
        "id": "OfhEGOsIjK55"
      },
      "source": [
        "'''\n",
        "import pathlib\n",
        "\n",
        "temp = pathlib.PosixPath\n",
        "pathlib.PosixPath = pathlib.WindowsPath\n",
        "'''"
      ],
      "execution_count": null,
      "outputs": []
    },
    {
      "cell_type": "code",
      "metadata": {
        "gradient": {},
        "id": "K3xXssuqjK56"
      },
      "source": [
        "learn_inf = load_learner(path/'export.pkl')"
      ],
      "execution_count": null,
      "outputs": []
    },
    {
      "cell_type": "markdown",
      "metadata": {
        "gradient": {
          "editing": false
        },
        "id": "yIDzdfHMIH5U"
      },
      "source": [
        "## Develop application in notebook (ipywidget)"
      ]
    },
    {
      "cell_type": "markdown",
      "metadata": {
        "gradient": {
          "editing": false
        },
        "id": "nn5OljwXIPch"
      },
      "source": [
        "Through ipywidgets (.widget), we will develop GUI to upload and clasiffy a user selected image. Using widget we will "
      ]
    },
    {
      "cell_type": "code",
      "metadata": {
        "gradient": {},
        "id": "UCP0qAxfIaim"
      },
      "source": [
        "btn_upload = widgets.FileUpload()\n",
        "btn_upload"
      ],
      "execution_count": null,
      "outputs": []
    },
    {
      "cell_type": "code",
      "metadata": {
        "gradient": {},
        "id": "X-5puMcljK57"
      },
      "source": [
        "btn_upload = SimpleNamespace(data = ['CXR_test.png'])"
      ],
      "execution_count": null,
      "outputs": []
    },
    {
      "cell_type": "code",
      "metadata": {
        "gradient": {},
        "id": "VHLBWhZZIpcq"
      },
      "source": [
        "def on_click_classify(change):\n",
        "    img = PILImage.create(btn_upload.data[-1])\n",
        "    out_pl.clear_output()\n",
        "    with out_pl: display(img.to_thumb(128,128))\n",
        "    pred,pred_idx,probs = learn_inf.predict(img)\n",
        "    lbl_pred.value = f'Prediction: {pred}; Probability: {probs[pred_idx]:.04f}'"
      ],
      "execution_count": null,
      "outputs": []
    },
    {
      "cell_type": "code",
      "metadata": {
        "id": "-M9erKCijK57"
      },
      "source": [
        "btn_run = widgets.Button(description='Classify')\n",
        "btn_run"
      ],
      "execution_count": null,
      "outputs": []
    },
    {
      "cell_type": "code",
      "metadata": {
        "gradient": {},
        "id": "7eKvLGEiIqZy"
      },
      "source": [
        "btn_run.on_click(on_click_classify)"
      ],
      "execution_count": null,
      "outputs": []
    },
    {
      "cell_type": "code",
      "metadata": {
        "gradient": {},
        "id": "eUzurYb-Z-sH"
      },
      "source": [
        "img = PILImage.create(btn_upload.data[-1])\n",
        "out_pl = widgets.Output()\n",
        "out_pl.clear_output()\n",
        "with out_pl: display(img.to_thumb(128,128))\n",
        "#out_pl\n"
      ],
      "execution_count": null,
      "outputs": []
    },
    {
      "cell_type": "code",
      "metadata": {
        "gradient": {},
        "id": "_XtOcsFgaGxy"
      },
      "source": [
        "pred,pred_idx,probs = learn_inf.predict(img)\n",
        "lbl_pred = widgets.Label()\n",
        "lbl_pred.value = f'Prediction: {pred}; Probability: {probs[pred_idx]:.04f}'"
      ],
      "execution_count": null,
      "outputs": []
    },
    {
      "cell_type": "code",
      "metadata": {
        "gradient": {},
        "id": "a1qCUmbxIwGp"
      },
      "source": [
        "btn_upload = widgets.FileUpload()\n",
        "VBox([widgets.Label('Select your image!'), \n",
        "      btn_upload, btn_run, out_pl, lbl_pred])"
      ],
      "execution_count": null,
      "outputs": []
    },
    {
      "cell_type": "code",
      "metadata": {
        "id": "eYNSaxhhjK58"
      },
      "source": [
        "!pip install voila\n",
        "!jupyter serverextension enable --sys-prefix voila "
      ],
      "execution_count": null,
      "outputs": []
    }
  ]
}